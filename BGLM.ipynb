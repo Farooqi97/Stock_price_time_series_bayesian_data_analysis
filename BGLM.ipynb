{
 "cells": [
  {
   "cell_type": "code",
   "execution_count": null,
   "metadata": {},
   "outputs": [],
   "source": [
    "import pandas as pd\n",
    "import numpy as np\n",
    "import matplotlib.pyplot as plt\n",
    "import seaborn as sns\n",
    "import pymc3 as pm\n",
    "import arviz as az\n",
    "from sklearn.preprocessing import StandardScaler\n",
    "from sklearn.linear_model import LinearRegression"
   ]
  },
  {
   "cell_type": "code",
   "execution_count": null,
   "metadata": {},
   "outputs": [],
   "source": [
    "#Reading the data.csv file and filtering it\n",
    "df = pd.read_csv(r\"C:\\Users\\Farooqi\\Downloads\\data.csv\")\n",
    "df = df[df['Company'] == 'META']\n",
    "df.drop(columns=['Date','Company'], inplace=True)"
   ]
  },
  {
   "cell_type": "code",
   "execution_count": null,
   "metadata": {
    "scrolled": true
   },
   "outputs": [],
   "source": [
    "# Defining the model\n",
    "with pm.Model() as gamma_model:\n",
    "    a = pm.Normal(\"a\", 0, 0.5)\n",
    "    beta_volume = pm.Normal(\"beta_volume\", mu=5, sigma=1)\n",
    "    beta_open = pm.Normal(\"beta_open\", mu=5, sigma=1)\n",
    "    beta_high = pm.Normal(\"beta_high\", mu=5, sigma=1)\n",
    "    beta_low = pm.Normal(\"beta_low\", mu=5, sigma=1)\n",
    "    intercept = pm.Normal('intercept', mu=5, sigma=1)\n",
    "    shape = pm.Uniform(\"shape\", 0, 50)\n",
    "    \n",
    "    # Log Link Function\n",
    "    μ = pm.math.exp(a + beta_volume * df['Volume'] + beta_open * df['Open'] + beta_high * df['High'] + beta_low * df['Low'] + intercept)\n",
    "\n",
    "    likelihood = pm.Gamma(\"Close\", alpha=shape, beta=pm.math.exp(a + intercept), observed=df['Close'])\n",
    "\n",
    "    map_estimate = pm.find_MAP(progressbar=False)\n",
    "    trace = pm.sample(1000, chains=1, cores=4, return_inferencedata=False)\n"
   ]
  },
  {
   "cell_type": "code",
   "execution_count": null,
   "metadata": {},
   "outputs": [],
   "source": [
    "print(list(trace))"
   ]
  },
  {
   "cell_type": "code",
   "execution_count": null,
   "metadata": {},
   "outputs": [],
   "source": [
    "#Getting the value for PPC using trace\n",
    "with gamma_model:\n",
    "    ppc = pm.sample_posterior_predictive(\n",
    "        trace, random_seed=42, progressbar=True\n",
    "    )"
   ]
  },
  {
   "cell_type": "code",
   "execution_count": null,
   "metadata": {},
   "outputs": [],
   "source": [
    "with gamma_model: \n",
    "    trace_updated = az.from_pymc3(trace, posterior_predictive=ppc)"
   ]
  },
  {
   "cell_type": "code",
   "execution_count": null,
   "metadata": {},
   "outputs": [],
   "source": [
    "print(trace_updated)"
   ]
  },
  {
   "cell_type": "code",
   "execution_count": null,
   "metadata": {},
   "outputs": [],
   "source": [
    "print(trace_updated[\"posterior\"])\n",
    "print(trace_updated['posterior_predictive'])\n",
    "print(trace_updated['log_likelihood'])\n",
    "print(trace_updated['sample_stats'])\n",
    "print(trace_updated['observed_data'])\n"
   ]
  },
  {
   "cell_type": "code",
   "execution_count": null,
   "metadata": {},
   "outputs": [],
   "source": [
    "#Defining Trace plots\n",
    "az.style.use(\"arviz-darkgrid\")\n",
    "with gamma_model:\n",
    "  az.plot_trace(trace_updated, figsize=(17,10), legend=True)"
   ]
  },
  {
   "cell_type": "code",
   "execution_count": null,
   "metadata": {},
   "outputs": [],
   "source": [
    "#Definig Density plots\n",
    "az.style.use(\"arviz-darkgrid\")\n",
    "with gamma_model:\n",
    "  az.plot_posterior(trace_updated,textsize=16)"
   ]
  },
  {
   "cell_type": "code",
   "execution_count": null,
   "metadata": {
    "scrolled": true
   },
   "outputs": [],
   "source": [
    "az.style.use(\"arviz-darkgrid\")\n",
    "with gamma_model:\n",
    "  az.plot_ppc(trace_updated)"
   ]
  },
  {
   "cell_type": "code",
   "execution_count": null,
   "metadata": {},
   "outputs": [],
   "source": [
    "ppc = pm.sample_posterior_predictive(trace, samples=1000, model=gamma_model)\n",
    "# Extracting mean of predicted values\n",
    "predicted_values = np.mean(ppc['Close'], axis=0)\n",
    "\n",
    "# Calculating RMSE\n",
    "rmse = np.sqrt(np.mean((df['Close'] - predicted_values)**2))\n",
    "print(\"RMSE:\", rmse)\n",
    "\n",
    "# Calculating Mean Absolute Error (MAE)\n",
    "mae = np.mean(np.abs(df['Close'] - predicted_values))\n",
    "print(\"Mean Absolute Error (MAE):\", mae)"
   ]
  }
 ],
 "metadata": {
  "kernelspec": {
   "display_name": "Python 3",
   "language": "python",
   "name": "python3"
  },
  "language_info": {
   "codemirror_mode": {
    "name": "ipython",
    "version": 3
   },
   "file_extension": ".py",
   "mimetype": "text/x-python",
   "name": "python",
   "nbconvert_exporter": "python",
   "pygments_lexer": "ipython3",
   "version": "3.6.8"
  }
 },
 "nbformat": 4,
 "nbformat_minor": 2
}
